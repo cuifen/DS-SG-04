{
 "cells": [
  {
   "cell_type": "code",
   "execution_count": 1,
   "metadata": {
    "collapsed": true
   },
   "outputs": [],
   "source": [
    "import pandas as pd\n",
    "import numpy as np\n",
    "from sklearn.linear_model import LinearRegression, Ridge, Lasso\n",
    "from sklearn.preprocessing import PolynomialFeatures, StandardScaler\n",
    "from sklearn import metrics, model_selection\n",
    "import statsmodels.formula.api as smf\n",
    "from sklearn.pipeline import make_pipeline\n",
    "\n",
    "# visualization\n",
    "import seaborn as sns\n",
    "import matplotlib.pyplot as plt\n",
    "%matplotlib inline"
   ]
  },
  {
   "cell_type": "markdown",
   "metadata": {},
   "source": [
    "#### HDB Resale Price Predictions "
   ]
  },
  {
   "cell_type": "markdown",
   "metadata": {},
   "source": [
    "For today's lab, we will continue working with the HDB resale dataset, and start to explore metrics around the accuracy of the linear models we generate https://data.gov.sg/dataset/resale-flat-prices"
   ]
  },
  {
   "cell_type": "code",
   "execution_count": 6,
   "metadata": {
    "collapsed": true
   },
   "outputs": [],
   "source": [
    "hdb = pd.read_csv('data/resale-flat-prices-based-on-registration-date-from-march-2012-onwards.csv')"
   ]
  },
  {
   "cell_type": "code",
   "execution_count": 7,
   "metadata": {},
   "outputs": [],
   "source": [
    "hdb = hdb.rename(columns={'month': 'year-month'})\n",
    "hdb['year'] = hdb['year-month'].apply(lambda x: int(x.split(\"-\")[0]))\n",
    "hdb['month'] = hdb['year-month'].apply(lambda x: int(x.split(\"-\")[1]))\n",
    "hdb['lower_storey_bound'] = hdb['storey_range'].apply(lambda x: int(x.split()[0]))\n",
    "hdb['upper_storey_bound'] = hdb['storey_range'].apply(lambda x: int(x.split()[2]))\n",
    "hdb['flat_age'] = hdb['year'] - hdb['lease_commence_date']\n",
    "town_dummies = pd.get_dummies(hdb.town, drop_first=True, prefix='TOWN')\n",
    "hdb_town = pd.concat([hdb, town_dummies], axis=1)\n",
    "factors = np.concatenate((town_dummies.columns, [\"upper_storey_bound\", \"floor_area_sqm\", \"flat_age\"]), axis=0)"
   ]
  },
  {
   "cell_type": "markdown",
   "metadata": {},
   "source": [
    "#### 1. Using model_selection.train_test_split, divide the hdb_town data into a training and testing dataset with random_state = 1"
   ]
  },
  {
   "cell_type": "code",
   "execution_count": 9,
   "metadata": {
    "collapsed": true
   },
   "outputs": [],
   "source": [
    "model_selection.train_test_split?"
   ]
  },
  {
   "cell_type": "code",
   "execution_count": 8,
   "metadata": {},
   "outputs": [
    {
     "name": "stdout",
     "output_type": "stream",
     "text": [
      "(72473, 40) (24158, 40)\n"
     ]
    }
   ],
   "source": [
    "hdb_train, hdb_test = model_selection.train_test_split(hdb_town, random_state=1)\n",
    "print hdb_train.shape, hdb_test.shape"
   ]
  },
  {
   "cell_type": "markdown",
   "metadata": {},
   "source": [
    "#### 2. Create and fit a Linear Regression Model using Sklearn on the training dataset using the factors provided"
   ]
  },
  {
   "cell_type": "code",
   "execution_count": 14,
   "metadata": {
    "collapsed": true
   },
   "outputs": [],
   "source": [
    "lm = LinearRegression().fit(hdb_train[factors], hdb_train[\"resale_price\"])"
   ]
  },
  {
   "cell_type": "markdown",
   "metadata": {},
   "source": [
    "#### 3. Calculate the MAE, MSE, and RMSE for predictions on the training data "
   ]
  },
  {
   "cell_type": "code",
   "execution_count": 16,
   "metadata": {
    "collapsed": true
   },
   "outputs": [],
   "source": [
    "train_preds = lm.predict(hdb_train[factors])"
   ]
  },
  {
   "cell_type": "code",
   "execution_count": 17,
   "metadata": {},
   "outputs": [
    {
     "name": "stdout",
     "output_type": "stream",
     "text": [
      "41750.5048962\n"
     ]
    }
   ],
   "source": [
    "train_mae = metrics.mean_absolute_error(train_preds, hdb_train[\"resale_price\"])\n",
    "print train_mae"
   ]
  },
  {
   "cell_type": "code",
   "execution_count": 18,
   "metadata": {},
   "outputs": [
    {
     "name": "stdout",
     "output_type": "stream",
     "text": [
      "2920561379.39\n"
     ]
    }
   ],
   "source": [
    "train_mse = metrics.mean_squared_error(train_preds, hdb_train[\"resale_price\"])\n",
    "print train_mse"
   ]
  },
  {
   "cell_type": "code",
   "execution_count": 19,
   "metadata": {},
   "outputs": [
    {
     "name": "stdout",
     "output_type": "stream",
     "text": [
      "54042.2184906\n"
     ]
    }
   ],
   "source": [
    "train_rmse = np.sqrt(train_mse)\n",
    "print train_rmse"
   ]
  },
  {
   "cell_type": "markdown",
   "metadata": {},
   "source": [
    "#### 4. Calculate the MAE, MSE, and RMSE for predictions on the testing data "
   ]
  },
  {
   "cell_type": "code",
   "execution_count": 20,
   "metadata": {
    "collapsed": true
   },
   "outputs": [],
   "source": [
    "test_preds = lm.predict(hdb_test[factors])"
   ]
  },
  {
   "cell_type": "code",
   "execution_count": 21,
   "metadata": {},
   "outputs": [
    {
     "name": "stdout",
     "output_type": "stream",
     "text": [
      "41866.6305437\n"
     ]
    }
   ],
   "source": [
    "test_mae = metrics.mean_absolute_error(test_preds, hdb_test[\"resale_price\"])\n",
    "print test_mae"
   ]
  },
  {
   "cell_type": "code",
   "execution_count": 22,
   "metadata": {},
   "outputs": [
    {
     "name": "stdout",
     "output_type": "stream",
     "text": [
      "2921704935.12\n"
     ]
    }
   ],
   "source": [
    "test_mse = metrics.mean_squared_error(test_preds, hdb_test[\"resale_price\"])\n",
    "print test_mse"
   ]
  },
  {
   "cell_type": "code",
   "execution_count": 23,
   "metadata": {},
   "outputs": [
    {
     "name": "stdout",
     "output_type": "stream",
     "text": [
      "54052.7976623\n"
     ]
    }
   ],
   "source": [
    "test_rmse = np.sqrt(test_mse)\n",
    "print test_rmse"
   ]
  },
  {
   "cell_type": "markdown",
   "metadata": {},
   "source": [
    "#### 5. Using the entire dataset i.e. hdb_town, perform 10 folds cross validation. Compute the RMSE for each model fold and the overall mean RMSE "
   ]
  },
  {
   "cell_type": "code",
   "execution_count": 24,
   "metadata": {
    "collapsed": true
   },
   "outputs": [],
   "source": [
    "kf = model_selection.KFold(n_splits=10, shuffle=True)"
   ]
  },
  {
   "cell_type": "code",
   "execution_count": 25,
   "metadata": {},
   "outputs": [
    {
     "name": "stdout",
     "output_type": "stream",
     "text": [
      "RMSE: 53759.1380852\n",
      "RMSE: 54150.3268562\n",
      "RMSE: 54583.6022947\n",
      "RMSE: 54499.523151\n",
      "RMSE: 53375.7205116\n",
      "RMSE: 53723.6953685\n",
      "RMSE: 53723.5126501\n",
      "RMSE: 54518.5672144\n",
      "RMSE: 53897.0368017\n",
      "RMSE: 54397.2935896\n",
      "Mean RMSE: 54062.8416523\n"
     ]
    }
   ],
   "source": [
    "rmse_list = []\n",
    "for train_index, test_index in kf.split(hdb_town):\n",
    "    hdb_kf_train = hdb_town.iloc[train_index]\n",
    "    hdb_kf_test = hdb_town.iloc[test_index]\n",
    "    lm_kf = LinearRegression().fit(hdb_kf_train[factors], hdb_kf_train[\"resale_price\"])\n",
    "    hdb_kf_preds = lm_kf.predict(hdb_kf_test[factors])\n",
    "    rmse = np.sqrt(metrics.mean_squared_error(hdb_kf_preds, hdb_kf_test[\"resale_price\"]))\n",
    "    rmse_list.append(rmse)\n",
    "    print \"RMSE:\", rmse\n",
    "print \"Mean RMSE:\", np.mean(rmse_list)"
   ]
  },
  {
   "cell_type": "markdown",
   "metadata": {},
   "source": [
    "#### 6. Now split the dataset using year >= 2016 for testing and year < 2016 for training"
   ]
  },
  {
   "cell_type": "code",
   "execution_count": 26,
   "metadata": {},
   "outputs": [
    {
     "name": "stdout",
     "output_type": "stream",
     "text": [
      "(25395, 40) (71236, 40)\n"
     ]
    }
   ],
   "source": [
    "hdb_test = hdb_town[hdb_town[\"year\"] >= 2016]\n",
    "hdb_train = hdb_town[hdb_town[\"year\"] < 2016]\n",
    "print hdb_test.shape, hdb_train.shape"
   ]
  },
  {
   "cell_type": "markdown",
   "metadata": {},
   "source": [
    "#### 7. Train a linear model on with this new training dataset and compute the RMSE of this model against both the  training and test data "
   ]
  },
  {
   "cell_type": "code",
   "execution_count": 27,
   "metadata": {
    "collapsed": true
   },
   "outputs": [],
   "source": [
    "lm = LinearRegression().fit(hdb_train[factors], hdb_train[\"resale_price\"])\n",
    "train_preds = lm.predict(hdb_train[factors])\n",
    "test_preds = lm.predict(hdb_test[factors])"
   ]
  },
  {
   "cell_type": "code",
   "execution_count": 28,
   "metadata": {},
   "outputs": [
    {
     "name": "stdout",
     "output_type": "stream",
     "text": [
      "51990.462625\n",
      "60871.419329\n"
     ]
    }
   ],
   "source": [
    "train_rmse = np.sqrt(metrics.mean_squared_error(train_preds, hdb_train[\"resale_price\"]))\n",
    "test_rmse = np.sqrt(metrics.mean_squared_error(test_preds, hdb_test[\"resale_price\"]))\n",
    "\n",
    "print train_rmse \n",
    "print test_rmse"
   ]
  },
  {
   "cell_type": "markdown",
   "metadata": {},
   "source": [
    "#### Bonus Question 1"
   ]
  },
  {
   "cell_type": "markdown",
   "metadata": {},
   "source": [
    "Housing prices are often estimated by psf depending on the location. This might be a better way to predict the price instead of having a coefficient for area and a separate one for location. \n",
    "\n",
    "Create an additional set of columns with the prefix AREA\\_TOWN\\_ that contains the area if the flat is in that town or is 0 otherwise. Include these columns into the model and run a 10 fold cross validation to see if this improves the model.\n",
    "\n",
    "Note that you should keep the main terms in a model when interaction terms are included.\n",
    "\n",
    "Hint: Check the multiply function of dataframes"
   ]
  },
  {
   "cell_type": "code",
   "execution_count": 29,
   "metadata": {
    "collapsed": true
   },
   "outputs": [],
   "source": [
    "area_dummies = town_dummies.multiply(hdb[\"floor_area_sqm\"], axis=\"index\").add_prefix('AREA_')"
   ]
  },
  {
   "cell_type": "code",
   "execution_count": 31,
   "metadata": {
    "collapsed": true
   },
   "outputs": [],
   "source": [
    "hdb_area = pd.concat([hdb_town, area_dummies], axis=1)\n",
    "new_factors = np.concatenate((town_dummies.columns, area_dummies.columns, [\"upper_storey_bound\", \"floor_area_sqm\", \"flat_age\"]), axis=0)"
   ]
  },
  {
   "cell_type": "code",
   "execution_count": 32,
   "metadata": {},
   "outputs": [
    {
     "name": "stdout",
     "output_type": "stream",
     "text": [
      "RMSE: 50819.0985734\n",
      "RMSE: 50436.1048783\n",
      "RMSE: 50198.9722465\n",
      "RMSE: 49597.9013981\n",
      "RMSE: 49884.4088342\n",
      "RMSE: 49549.1801801\n",
      "RMSE: 50381.9343533\n",
      "RMSE: 49485.0095515\n",
      "RMSE: 50656.6117103\n",
      "RMSE: 49560.3383809\n",
      "Mean RMSE: 50056.9560106\n"
     ]
    }
   ],
   "source": [
    "rmse_list = []\n",
    "for train_index, test_index in kf.split(hdb_area):\n",
    "    hdb_kf_train = hdb_area.iloc[train_index]\n",
    "    hdb_kf_test = hdb_area.iloc[test_index]\n",
    "    lm_kf = LinearRegression().fit(hdb_kf_train[new_factors], hdb_kf_train[\"resale_price\"])\n",
    "    hdb_kf_preds = lm_kf.predict(hdb_kf_test[new_factors])\n",
    "    rmse = np.sqrt(metrics.mean_squared_error(hdb_kf_preds, hdb_kf_test[\"resale_price\"]))\n",
    "    rmse_list.append(rmse)\n",
    "    print \"RMSE:\", rmse\n",
    "print \"Mean RMSE:\", np.mean(rmse_list)"
   ]
  },
  {
   "cell_type": "markdown",
   "metadata": {},
   "source": [
    "#### Ridge and Lasso Regression "
   ]
  },
  {
   "cell_type": "code",
   "execution_count": 33,
   "metadata": {},
   "outputs": [
    {
     "data": {
      "text/plain": [
       "(96631, 65)"
      ]
     },
     "execution_count": 33,
     "metadata": {},
     "output_type": "execute_result"
    }
   ],
   "source": [
    "hdb_area.shape"
   ]
  },
  {
   "cell_type": "code",
   "execution_count": 34,
   "metadata": {
    "collapsed": true
   },
   "outputs": [],
   "source": [
    "hdb_random = pd.DataFrame(np.random.randn(hdb_area.shape[0],200))\n",
    "hdb_full = pd.concat([hdb_area,hdb_random], axis=1)"
   ]
  },
  {
   "cell_type": "code",
   "execution_count": 35,
   "metadata": {},
   "outputs": [
    {
     "data": {
      "text/html": [
       "<div>\n",
       "<table border=\"1\" class=\"dataframe\">\n",
       "  <thead>\n",
       "    <tr style=\"text-align: right;\">\n",
       "      <th></th>\n",
       "      <th>year-month</th>\n",
       "      <th>town</th>\n",
       "      <th>flat_type</th>\n",
       "      <th>block</th>\n",
       "      <th>street_name</th>\n",
       "      <th>storey_range</th>\n",
       "      <th>floor_area_sqm</th>\n",
       "      <th>flat_model</th>\n",
       "      <th>lease_commence_date</th>\n",
       "      <th>resale_price</th>\n",
       "      <th>...</th>\n",
       "      <th>190</th>\n",
       "      <th>191</th>\n",
       "      <th>192</th>\n",
       "      <th>193</th>\n",
       "      <th>194</th>\n",
       "      <th>195</th>\n",
       "      <th>196</th>\n",
       "      <th>197</th>\n",
       "      <th>198</th>\n",
       "      <th>199</th>\n",
       "    </tr>\n",
       "  </thead>\n",
       "  <tbody>\n",
       "    <tr>\n",
       "      <th>0</th>\n",
       "      <td>2012-03</td>\n",
       "      <td>ANG MO KIO</td>\n",
       "      <td>2 ROOM</td>\n",
       "      <td>172</td>\n",
       "      <td>ANG MO KIO AVE 4</td>\n",
       "      <td>06 TO 10</td>\n",
       "      <td>45.0</td>\n",
       "      <td>Improved</td>\n",
       "      <td>1986</td>\n",
       "      <td>250000.0</td>\n",
       "      <td>...</td>\n",
       "      <td>-1.958005</td>\n",
       "      <td>0.588355</td>\n",
       "      <td>0.840697</td>\n",
       "      <td>-1.528331</td>\n",
       "      <td>0.297381</td>\n",
       "      <td>0.148198</td>\n",
       "      <td>1.478362</td>\n",
       "      <td>-0.539837</td>\n",
       "      <td>0.977207</td>\n",
       "      <td>-0.275596</td>\n",
       "    </tr>\n",
       "    <tr>\n",
       "      <th>1</th>\n",
       "      <td>2012-03</td>\n",
       "      <td>ANG MO KIO</td>\n",
       "      <td>2 ROOM</td>\n",
       "      <td>510</td>\n",
       "      <td>ANG MO KIO AVE 8</td>\n",
       "      <td>01 TO 05</td>\n",
       "      <td>44.0</td>\n",
       "      <td>Improved</td>\n",
       "      <td>1980</td>\n",
       "      <td>265000.0</td>\n",
       "      <td>...</td>\n",
       "      <td>0.680669</td>\n",
       "      <td>-1.680983</td>\n",
       "      <td>0.555307</td>\n",
       "      <td>0.226783</td>\n",
       "      <td>-0.327755</td>\n",
       "      <td>0.835698</td>\n",
       "      <td>0.053979</td>\n",
       "      <td>1.035317</td>\n",
       "      <td>0.422508</td>\n",
       "      <td>0.523688</td>\n",
       "    </tr>\n",
       "    <tr>\n",
       "      <th>2</th>\n",
       "      <td>2012-03</td>\n",
       "      <td>ANG MO KIO</td>\n",
       "      <td>3 ROOM</td>\n",
       "      <td>610</td>\n",
       "      <td>ANG MO KIO AVE 4</td>\n",
       "      <td>06 TO 10</td>\n",
       "      <td>68.0</td>\n",
       "      <td>New Generation</td>\n",
       "      <td>1980</td>\n",
       "      <td>315000.0</td>\n",
       "      <td>...</td>\n",
       "      <td>-0.306634</td>\n",
       "      <td>0.232233</td>\n",
       "      <td>1.052895</td>\n",
       "      <td>0.392184</td>\n",
       "      <td>0.297569</td>\n",
       "      <td>0.781066</td>\n",
       "      <td>-0.048975</td>\n",
       "      <td>-0.130066</td>\n",
       "      <td>0.070187</td>\n",
       "      <td>0.000394</td>\n",
       "    </tr>\n",
       "    <tr>\n",
       "      <th>3</th>\n",
       "      <td>2012-03</td>\n",
       "      <td>ANG MO KIO</td>\n",
       "      <td>3 ROOM</td>\n",
       "      <td>474</td>\n",
       "      <td>ANG MO KIO AVE 10</td>\n",
       "      <td>01 TO 05</td>\n",
       "      <td>67.0</td>\n",
       "      <td>New Generation</td>\n",
       "      <td>1984</td>\n",
       "      <td>320000.0</td>\n",
       "      <td>...</td>\n",
       "      <td>0.053804</td>\n",
       "      <td>0.919346</td>\n",
       "      <td>1.311095</td>\n",
       "      <td>-0.024909</td>\n",
       "      <td>1.161662</td>\n",
       "      <td>-0.572276</td>\n",
       "      <td>-0.233500</td>\n",
       "      <td>-1.587026</td>\n",
       "      <td>-0.347166</td>\n",
       "      <td>-0.404238</td>\n",
       "    </tr>\n",
       "    <tr>\n",
       "      <th>4</th>\n",
       "      <td>2012-03</td>\n",
       "      <td>ANG MO KIO</td>\n",
       "      <td>3 ROOM</td>\n",
       "      <td>604</td>\n",
       "      <td>ANG MO KIO AVE 5</td>\n",
       "      <td>06 TO 10</td>\n",
       "      <td>67.0</td>\n",
       "      <td>New Generation</td>\n",
       "      <td>1980</td>\n",
       "      <td>321000.0</td>\n",
       "      <td>...</td>\n",
       "      <td>-0.175876</td>\n",
       "      <td>0.308328</td>\n",
       "      <td>-0.544246</td>\n",
       "      <td>0.481570</td>\n",
       "      <td>0.129781</td>\n",
       "      <td>-0.742183</td>\n",
       "      <td>-0.366746</td>\n",
       "      <td>1.501854</td>\n",
       "      <td>-0.323555</td>\n",
       "      <td>1.464528</td>\n",
       "    </tr>\n",
       "  </tbody>\n",
       "</table>\n",
       "<p>5 rows × 265 columns</p>\n",
       "</div>"
      ],
      "text/plain": [
       "  year-month        town flat_type block        street_name storey_range  \\\n",
       "0    2012-03  ANG MO KIO    2 ROOM   172   ANG MO KIO AVE 4     06 TO 10   \n",
       "1    2012-03  ANG MO KIO    2 ROOM   510   ANG MO KIO AVE 8     01 TO 05   \n",
       "2    2012-03  ANG MO KIO    3 ROOM   610   ANG MO KIO AVE 4     06 TO 10   \n",
       "3    2012-03  ANG MO KIO    3 ROOM   474  ANG MO KIO AVE 10     01 TO 05   \n",
       "4    2012-03  ANG MO KIO    3 ROOM   604   ANG MO KIO AVE 5     06 TO 10   \n",
       "\n",
       "   floor_area_sqm      flat_model  lease_commence_date  resale_price  \\\n",
       "0            45.0        Improved                 1986      250000.0   \n",
       "1            44.0        Improved                 1980      265000.0   \n",
       "2            68.0  New Generation                 1980      315000.0   \n",
       "3            67.0  New Generation                 1984      320000.0   \n",
       "4            67.0  New Generation                 1980      321000.0   \n",
       "\n",
       "     ...          190       191       192       193       194       195  \\\n",
       "0    ...    -1.958005  0.588355  0.840697 -1.528331  0.297381  0.148198   \n",
       "1    ...     0.680669 -1.680983  0.555307  0.226783 -0.327755  0.835698   \n",
       "2    ...    -0.306634  0.232233  1.052895  0.392184  0.297569  0.781066   \n",
       "3    ...     0.053804  0.919346  1.311095 -0.024909  1.161662 -0.572276   \n",
       "4    ...    -0.175876  0.308328 -0.544246  0.481570  0.129781 -0.742183   \n",
       "\n",
       "        196       197       198       199  \n",
       "0  1.478362 -0.539837  0.977207 -0.275596  \n",
       "1  0.053979  1.035317  0.422508  0.523688  \n",
       "2 -0.048975 -0.130066  0.070187  0.000394  \n",
       "3 -0.233500 -1.587026 -0.347166 -0.404238  \n",
       "4 -0.366746  1.501854 -0.323555  1.464528  \n",
       "\n",
       "[5 rows x 265 columns]"
      ]
     },
     "execution_count": 35,
     "metadata": {},
     "output_type": "execute_result"
    }
   ],
   "source": [
    "hdb_full.head()"
   ]
  },
  {
   "cell_type": "code",
   "execution_count": 66,
   "metadata": {
    "collapsed": true
   },
   "outputs": [],
   "source": [
    "sample_size = 500\n",
    "hdb_sample = hdb_full.sample(sample_size, random_state=10)\n",
    "full_factors = np.concatenate((hdb_random.columns, town_dummies.columns, area_dummies.columns, [\"upper_storey_bound\", \"floor_area_sqm\", \"flat_age\"]), axis=0)\n",
    "kf = model_selection.KFold(n_splits=10, shuffle=True, random_state=10)"
   ]
  },
  {
   "cell_type": "code",
   "execution_count": 67,
   "metadata": {},
   "outputs": [
    {
     "name": "stdout",
     "output_type": "stream",
     "text": [
      "MSE: 8302863125.56\n",
      "MSE: 6761805338.69\n",
      "MSE: 6178427568.36\n",
      "MSE: 7550727674.04\n",
      "MSE: 5062596270.38\n",
      "MSE: 8700945425.82\n",
      "MSE: 8936817844.02\n",
      "MSE: 4680757440.76\n",
      "MSE: 3933935755.67\n",
      "MSE: 6149600432.6\n",
      "Mean RMSE: 81399.3101174\n"
     ]
    }
   ],
   "source": [
    "mse_list = []\n",
    "for train_index, test_index in kf.split(hdb_sample):\n",
    "    hdb_kf_train = hdb_sample.iloc[train_index]\n",
    "    hdb_kf_test = hdb_sample.iloc[test_index]\n",
    "    lm_kf = LinearRegression().fit(hdb_kf_train[full_factors], hdb_kf_train[\"resale_price\"])\n",
    "    hdb_kf_preds = lm_kf.predict(hdb_kf_test[full_factors])\n",
    "    mse = metrics.mean_squared_error(hdb_kf_preds, hdb_kf_test[\"resale_price\"])\n",
    "    mse_list.append(mse)\n",
    "    print \"MSE:\", mse\n",
    "print \"Mean RMSE:\", np.sqrt(np.mean(mse_list))"
   ]
  },
  {
   "cell_type": "code",
   "execution_count": 68,
   "metadata": {
    "collapsed": true
   },
   "outputs": [],
   "source": [
    "from sklearn.linear_model import Ridge, Lasso"
   ]
  },
  {
   "cell_type": "code",
   "execution_count": 69,
   "metadata": {},
   "outputs": [
    {
     "data": {
      "text/plain": [
       "GridSearchCV(cv=KFold(n_splits=10, random_state=10, shuffle=True),\n",
       "       error_score='raise',\n",
       "       estimator=Pipeline(steps=[('standardscaler', StandardScaler(copy=True, with_mean=True, with_std=True)), ('ridge', Ridge(alpha=1.0, copy_X=True, fit_intercept=True, max_iter=None,\n",
       "   normalize=False, random_state=None, solver='auto', tol=0.001))]),\n",
       "       fit_params={}, iid=True, n_jobs=1,\n",
       "       param_grid={'ridge__alpha': array([  1.00000e-04,   1.00000e-03,   1.00000e-02,   1.00000e-01,\n",
       "         1.00000e+00,   1.00000e+01,   1.00000e+02,   1.00000e+03,\n",
       "         1.00000e+04])},\n",
       "       pre_dispatch='2*n_jobs', refit=True, return_train_score=True,\n",
       "       scoring='neg_mean_squared_error', verbose=0)"
      ]
     },
     "execution_count": 69,
     "metadata": {},
     "output_type": "execute_result"
    }
   ],
   "source": [
    "pipe = make_pipeline(StandardScaler(), Ridge())\n",
    "alphas = np.logspace(-4, 4, 9)\n",
    "gs = model_selection.GridSearchCV(\n",
    "    estimator=pipe,\n",
    "    param_grid={'ridge__alpha': alphas},\n",
    "    scoring='neg_mean_squared_error',\n",
    "    cv=kf)\n",
    "\n",
    "gs.fit(hdb_sample[full_factors], hdb_sample[\"resale_price\"])"
   ]
  },
  {
   "cell_type": "code",
   "execution_count": 70,
   "metadata": {},
   "outputs": [
    {
     "data": {
      "text/plain": [
       "74763.89733654671"
      ]
     },
     "execution_count": 70,
     "metadata": {},
     "output_type": "execute_result"
    }
   ],
   "source": [
    "np.sqrt(-gs.best_score_)"
   ]
  },
  {
   "cell_type": "code",
   "execution_count": 71,
   "metadata": {},
   "outputs": [
    {
     "data": {
      "text/plain": [
       "GridSearchCV(cv=KFold(n_splits=10, random_state=10, shuffle=True),\n",
       "       error_score='raise',\n",
       "       estimator=Pipeline(steps=[('standardscaler', StandardScaler(copy=True, with_mean=True, with_std=True)), ('lasso', Lasso(alpha=1.0, copy_X=True, fit_intercept=True, max_iter=1000,\n",
       "   normalize=False, positive=False, precompute=False, random_state=None,\n",
       "   selection='cyclic', tol=0.0001, warm_start=False))]),\n",
       "       fit_params={}, iid=True, n_jobs=1,\n",
       "       param_grid={'lasso__alpha': array([   500.,   1000.,   1500.,   2000.,   2500.,   3000.,   3500.,\n",
       "         4000.,   4500.,   5000.,   5500.,   6000.,   6500.,   7000.,\n",
       "         7500.,   8000.,   8500.,   9000.,   9500.,  10000.])},\n",
       "       pre_dispatch='2*n_jobs', refit=True, return_train_score=True,\n",
       "       scoring='neg_mean_squared_error', verbose=0)"
      ]
     },
     "execution_count": 71,
     "metadata": {},
     "output_type": "execute_result"
    }
   ],
   "source": [
    "pipe = make_pipeline(StandardScaler(), Lasso())\n",
    "#alphas = np.logspace(-3, 5, 9)\n",
    "alphas = np.linspace(500, 10000, 20)\n",
    "gs = model_selection.GridSearchCV(\n",
    "    estimator=pipe,\n",
    "    param_grid={'lasso__alpha': alphas},\n",
    "    scoring='neg_mean_squared_error',\n",
    "    cv=kf)\n",
    "\n",
    "gs.fit(hdb_sample[full_factors], hdb_sample[\"resale_price\"])"
   ]
  },
  {
   "cell_type": "code",
   "execution_count": 72,
   "metadata": {},
   "outputs": [
    {
     "data": {
      "text/plain": [
       "{'lasso__alpha': 2000.0}"
      ]
     },
     "execution_count": 72,
     "metadata": {},
     "output_type": "execute_result"
    }
   ],
   "source": [
    "gs.best_params_"
   ]
  },
  {
   "cell_type": "code",
   "execution_count": 73,
   "metadata": {},
   "outputs": [
    {
     "data": {
      "text/plain": [
       "62386.665126222833"
      ]
     },
     "execution_count": 73,
     "metadata": {},
     "output_type": "execute_result"
    }
   ],
   "source": [
    "np.sqrt(-gs.best_score_)"
   ]
  },
  {
   "cell_type": "code",
   "execution_count": 80,
   "metadata": {},
   "outputs": [
    {
     "data": {
      "text/plain": [
       "array([ 66906.09861579,  63656.69571253,  62847.43250662,  62386.66512622,\n",
       "        62532.4014958 ,  62885.1926858 ,  63391.88939697,  64134.11152345,\n",
       "        64939.26661471,  65851.972928  ,  66903.3366441 ,  68037.59062431,\n",
       "        69204.03696289,  70364.29566956,  71445.00295263,  72415.02478012,\n",
       "        73364.90691101,  74265.74248808,  75125.26775101,  75944.17601989])"
      ]
     },
     "execution_count": 80,
     "metadata": {},
     "output_type": "execute_result"
    }
   ],
   "source": [
    "np.sqrt(-gs.cv_results_[\"mean_test_score\"])"
   ]
  }
 ],
 "metadata": {
  "anaconda-cloud": {},
  "kernelspec": {
   "display_name": "Python [python2]",
   "language": "python",
   "name": "Python [python2]"
  },
  "language_info": {
   "codemirror_mode": {
    "name": "ipython",
    "version": 2
   },
   "file_extension": ".py",
   "mimetype": "text/x-python",
   "name": "python",
   "nbconvert_exporter": "python",
   "pygments_lexer": "ipython2",
   "version": "2.7.13"
  }
 },
 "nbformat": 4,
 "nbformat_minor": 2
}
