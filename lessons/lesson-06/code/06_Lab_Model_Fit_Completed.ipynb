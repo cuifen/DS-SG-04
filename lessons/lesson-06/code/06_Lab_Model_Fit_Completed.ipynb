{
 "cells": [
  {
   "cell_type": "code",
   "execution_count": 6,
   "metadata": {
    "collapsed": true
   },
   "outputs": [],
   "source": [
    "import pandas as pd\n",
    "import numpy as np\n",
    "from sklearn.linear_model import LinearRegression, Ridge, Lasso\n",
    "from sklearn.preprocessing import PolynomialFeatures, StandardScaler\n",
    "from sklearn import metrics, model_selection\n",
    "import statsmodels.formula.api as smf\n",
    "from sklearn.pipeline import make_pipeline\n",
    "\n",
    "# visualization\n",
    "import seaborn as sns\n",
    "import matplotlib.pyplot as plt\n",
    "%matplotlib inline"
   ]
  },
  {
   "cell_type": "markdown",
   "metadata": {},
   "source": [
    "#### HDB Resale Price Predictions "
   ]
  },
  {
   "cell_type": "markdown",
   "metadata": {},
   "source": [
    "For today's lab, we will continue working with the HDB resale dataset, and start to explore metrics around the accuracy of the linear models we generate https://data.gov.sg/dataset/resale-flat-prices"
   ]
  },
  {
   "cell_type": "code",
   "execution_count": 7,
   "metadata": {
    "collapsed": true
   },
   "outputs": [],
   "source": [
    "hdb = pd.read_csv('data/resale-flat-prices-based-on-registration-date-from-march-2012-onwards.csv')"
   ]
  },
  {
   "cell_type": "code",
   "execution_count": 8,
   "metadata": {
    "collapsed": true
   },
   "outputs": [],
   "source": [
    "hdb = hdb.rename(columns={'month': 'year-month'})\n",
    "hdb['year'] = hdb['year-month'].apply(lambda x: int(x.split(\"-\")[0]))\n",
    "hdb['month'] = hdb['year-month'].apply(lambda x: int(x.split(\"-\")[1]))\n",
    "hdb['lower_storey_bound'] = hdb['storey_range'].apply(lambda x: int(x.split()[0]))\n",
    "hdb['upper_storey_bound'] = hdb['storey_range'].apply(lambda x: int(x.split()[2]))\n",
    "hdb['flat_age'] = hdb['year'] - hdb['lease_commence_date']\n",
    "town_dummies = pd.get_dummies(hdb.town, drop_first=True, prefix='TOWN')\n",
    "hdb_town = pd.concat([hdb, town_dummies], axis=1)\n",
    "factors = np.concatenate((town_dummies.columns, [\"upper_storey_bound\", \"floor_area_sqm\", \"flat_age\"]), axis=0)"
   ]
  },
  {
   "cell_type": "markdown",
   "metadata": {},
   "source": [
    "#### 1. Using model_selection.train_test_split, divide the hdb_town data into a training and testing dataset with random_state = 1"
   ]
  },
  {
   "cell_type": "code",
   "execution_count": 9,
   "metadata": {},
   "outputs": [
    {
     "name": "stdout",
     "output_type": "stream",
     "text": [
      "(24158, 40) (72473, 40)\n"
     ]
    }
   ],
   "source": [
    "hdb_train, hdb_test = model_selection.train_test_split(hdb_town, random_state=1)\n",
    "print hdb_test.shape, hdb_train.shape"
   ]
  },
  {
   "cell_type": "markdown",
   "metadata": {},
   "source": [
    "#### 2. Create and fit a Linear Regression Model using Sklearn on the training dataset using the factors provided"
   ]
  },
  {
   "cell_type": "code",
   "execution_count": 10,
   "metadata": {
    "collapsed": true
   },
   "outputs": [],
   "source": [
    "lm = LinearRegression().fit(hdb_train[factors], hdb_train[\"resale_price\"])"
   ]
  },
  {
   "cell_type": "markdown",
   "metadata": {},
   "source": [
    "#### 3. Calculate the MAE, MSE, and RMSE for predictions on the training data "
   ]
  },
  {
   "cell_type": "code",
   "execution_count": 11,
   "metadata": {
    "collapsed": true
   },
   "outputs": [],
   "source": [
    "train_preds = lm.predict(hdb_train[factors])"
   ]
  },
  {
   "cell_type": "code",
   "execution_count": 12,
   "metadata": {},
   "outputs": [
    {
     "name": "stdout",
     "output_type": "stream",
     "text": [
      "41750.5048962\n"
     ]
    }
   ],
   "source": [
    "train_mae = metrics.mean_absolute_error(train_preds, hdb_train[\"resale_price\"])\n",
    "print train_mae"
   ]
  },
  {
   "cell_type": "code",
   "execution_count": 13,
   "metadata": {},
   "outputs": [
    {
     "name": "stdout",
     "output_type": "stream",
     "text": [
      "2920561379.39\n"
     ]
    }
   ],
   "source": [
    "train_mse = metrics.mean_squared_error(train_preds, hdb_train[\"resale_price\"])\n",
    "print train_mse"
   ]
  },
  {
   "cell_type": "code",
   "execution_count": 14,
   "metadata": {},
   "outputs": [
    {
     "name": "stdout",
     "output_type": "stream",
     "text": [
      "54042.2184906\n"
     ]
    }
   ],
   "source": [
    "train_rmse = np.sqrt(train_mse)\n",
    "print train_rmse"
   ]
  },
  {
   "cell_type": "markdown",
   "metadata": {},
   "source": [
    "#### 4. Calculate the MAE, MSE, and RMSE for predictions on the testing data "
   ]
  },
  {
   "cell_type": "code",
   "execution_count": 15,
   "metadata": {
    "collapsed": true
   },
   "outputs": [],
   "source": [
    "test_preds = lm.predict(hdb_test[factors])"
   ]
  },
  {
   "cell_type": "code",
   "execution_count": 16,
   "metadata": {},
   "outputs": [
    {
     "name": "stdout",
     "output_type": "stream",
     "text": [
      "41866.6305437\n"
     ]
    }
   ],
   "source": [
    "test_mae = metrics.mean_absolute_error(test_preds, hdb_test[\"resale_price\"])\n",
    "print test_mae"
   ]
  },
  {
   "cell_type": "code",
   "execution_count": 17,
   "metadata": {},
   "outputs": [
    {
     "name": "stdout",
     "output_type": "stream",
     "text": [
      "2921704935.12\n"
     ]
    }
   ],
   "source": [
    "test_mse = metrics.mean_squared_error(test_preds, hdb_test[\"resale_price\"])\n",
    "print test_mse"
   ]
  },
  {
   "cell_type": "code",
   "execution_count": 18,
   "metadata": {},
   "outputs": [
    {
     "name": "stdout",
     "output_type": "stream",
     "text": [
      "54052.7976623\n"
     ]
    }
   ],
   "source": [
    "test_rmse = np.sqrt(test_mse)\n",
    "print test_rmse"
   ]
  },
  {
   "cell_type": "markdown",
   "metadata": {},
   "source": [
    "#### 5. Using the entire dataset i.e. hdb_town, perform 10 folds cross validation. Compute the RMSE for each model fold and the overall mean RMSE "
   ]
  },
  {
   "cell_type": "code",
   "execution_count": 19,
   "metadata": {
    "collapsed": true
   },
   "outputs": [],
   "source": [
    "kf = model_selection.KFold(n_splits=10, shuffle=True)"
   ]
  },
  {
   "cell_type": "code",
   "execution_count": 20,
   "metadata": {},
   "outputs": [
    {
     "name": "stdout",
     "output_type": "stream",
     "text": [
      "RMSE: 53183.9829707\n",
      "RMSE: 53940.8848178\n",
      "RMSE: 53636.3255946\n",
      "RMSE: 54535.2370943\n",
      "RMSE: 54191.9387822\n",
      "RMSE: 53958.7080015\n",
      "RMSE: 54195.4464569\n",
      "RMSE: 53788.7308882\n",
      "RMSE: 54284.0312026\n",
      "RMSE: 54855.30793\n",
      "Mean RMSE: 54057.0593739\n"
     ]
    }
   ],
   "source": [
    "rmse_list = []\n",
    "for train_index, test_index in kf.split(hdb_town):\n",
    "    hdb_kf_train = hdb_town.iloc[train_index]\n",
    "    hdb_kf_test = hdb_town.iloc[test_index]\n",
    "    lm_kf = LinearRegression().fit(hdb_kf_train[factors], hdb_kf_train[\"resale_price\"])\n",
    "    hdb_kf_preds = lm_kf.predict(hdb_kf_test[factors])\n",
    "    rmse = np.sqrt(metrics.mean_squared_error(hdb_kf_preds, hdb_kf_test[\"resale_price\"]))\n",
    "    rmse_list.append(rmse)\n",
    "    print \"RMSE:\", rmse\n",
    "print \"Mean RMSE:\", np.mean(rmse_list)"
   ]
  },
  {
   "cell_type": "markdown",
   "metadata": {},
   "source": [
    "#### 6. Now split the dataset using year >= 2016 for testing and year < 2016 for training"
   ]
  },
  {
   "cell_type": "code",
   "execution_count": 21,
   "metadata": {},
   "outputs": [
    {
     "name": "stdout",
     "output_type": "stream",
     "text": [
      "(25395, 40) (71236, 40)\n"
     ]
    }
   ],
   "source": [
    "hdb_test = hdb_town[hdb_town[\"year\"] >= 2016]\n",
    "hdb_train = hdb_town[hdb_town[\"year\"] < 2016]\n",
    "print hdb_test.shape, hdb_train.shape"
   ]
  },
  {
   "cell_type": "markdown",
   "metadata": {},
   "source": [
    "#### 7. Train a linear model on with this new training dataset and compute the RMSE of this model against both the  training and test data "
   ]
  },
  {
   "cell_type": "code",
   "execution_count": 22,
   "metadata": {
    "collapsed": true
   },
   "outputs": [],
   "source": [
    "lm = LinearRegression().fit(hdb_train[factors], hdb_train[\"resale_price\"])\n",
    "train_preds = lm.predict(hdb_train[factors])\n",
    "test_preds = lm.predict(hdb_test[factors])"
   ]
  },
  {
   "cell_type": "code",
   "execution_count": 23,
   "metadata": {},
   "outputs": [
    {
     "name": "stdout",
     "output_type": "stream",
     "text": [
      "51990.462625\n",
      "60871.419329\n"
     ]
    }
   ],
   "source": [
    "train_rmse = np.sqrt(metrics.mean_squared_error(train_preds, hdb_train[\"resale_price\"]))\n",
    "test_rmse = np.sqrt(metrics.mean_squared_error(test_preds, hdb_test[\"resale_price\"]))\n",
    "\n",
    "print train_rmse \n",
    "print test_rmse"
   ]
  },
  {
   "cell_type": "markdown",
   "metadata": {},
   "source": [
    "#### Bonus Question 1"
   ]
  },
  {
   "cell_type": "markdown",
   "metadata": {},
   "source": [
    "Housing prices are often estimated by psf depending on the location. This might be a better way to predict the price instead of having a coefficient for area and a separate one for location. \n",
    "\n",
    "Create an additional set of columns with the prefix AREA\\_TOWN\\_ that contains the area if the flat is in that town or is 0 otherwise. Include these columns into the model and run a 10 fold cross validation to see if this improves the model.\n",
    "\n",
    "Note that you should keep the main terms in a model when interaction terms are included.\n",
    "\n",
    "Hint: Check the multiply function of dataframes"
   ]
  },
  {
   "cell_type": "code",
   "execution_count": 24,
   "metadata": {},
   "outputs": [],
   "source": [
    "area_dummies = town_dummies.multiply(hdb[\"floor_area_sqm\"], axis=\"index\").add_prefix('AREA_')"
   ]
  },
  {
   "cell_type": "code",
   "execution_count": 25,
   "metadata": {
    "collapsed": true
   },
   "outputs": [],
   "source": [
    "hdb_area = pd.concat([hdb_town, area_dummies], axis=1)\n",
    "new_factors = np.concatenate((town_dummies.columns, area_dummies.columns, [\"upper_storey_bound\", \"floor_area_sqm\", \"flat_age\"]), axis=0)"
   ]
  },
  {
   "cell_type": "code",
   "execution_count": 26,
   "metadata": {},
   "outputs": [
    {
     "name": "stdout",
     "output_type": "stream",
     "text": [
      "RMSE: 51238.6834765\n",
      "RMSE: 49018.1418048\n",
      "RMSE: 50018.2930083\n",
      "RMSE: 49802.1342365\n",
      "RMSE: 50280.2480557\n",
      "RMSE: 50359.4525518\n",
      "RMSE: 50399.2214184\n",
      "RMSE: 50564.9382937\n",
      "RMSE: 49596.1000333\n",
      "RMSE: 49343.6538345\n",
      "Mean RMSE: 50062.0866714\n"
     ]
    }
   ],
   "source": [
    "rmse_list = []\n",
    "for train_index, test_index in kf.split(hdb_area):\n",
    "    hdb_kf_train = hdb_area.iloc[train_index]\n",
    "    hdb_kf_test = hdb_area.iloc[test_index]\n",
    "    lm_kf = LinearRegression().fit(hdb_kf_train[new_factors], hdb_kf_train[\"resale_price\"])\n",
    "    hdb_kf_preds = lm_kf.predict(hdb_kf_test[new_factors])\n",
    "    rmse = np.sqrt(metrics.mean_squared_error(hdb_kf_preds, hdb_kf_test[\"resale_price\"]))\n",
    "    rmse_list.append(rmse)\n",
    "    print \"RMSE:\", rmse\n",
    "print \"Mean RMSE:\", np.mean(rmse_list)"
   ]
  }
 ],
 "metadata": {
  "anaconda-cloud": {},
  "kernelspec": {
   "display_name": "Python [python2]",
   "language": "python",
   "name": "Python [python2]"
  },
  "language_info": {
   "codemirror_mode": {
    "name": "ipython",
    "version": 2
   },
   "file_extension": ".py",
   "mimetype": "text/x-python",
   "name": "python",
   "nbconvert_exporter": "python",
   "pygments_lexer": "ipython2",
   "version": "2.7.13"
  }
 },
 "nbformat": 4,
 "nbformat_minor": 2
}
